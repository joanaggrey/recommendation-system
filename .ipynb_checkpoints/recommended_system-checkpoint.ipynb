{
 "cells": [
  {
   "cell_type": "markdown",
   "id": "a613b535-fe96-45ed-acd5-0a8a34da6ca9",
   "metadata": {},
   "source": [
    "### **Recommendation model...**"
   ]
  },
  {
   "cell_type": "markdown",
   "id": "d477f044-0b0e-4b94-afbf-a7aac6533e19",
   "metadata": {},
   "source": [
    "#### Create a dictionary with users and their movie ratings\n"
   ]
  },
  {
   "cell_type": "code",
   "execution_count": 2,
   "id": "4742017f-e2fa-4e99-8dff-7d684f88230e",
   "metadata": {},
   "outputs": [],
   "source": [
    "critics={'Lisa Rose': {'Lady in the Water': 2.5, 'Snakes on a Plane': 3.5,\n",
    "'Just My Luck': 3.0, 'Superman Returns': 3.5, 'You, Me and Dupree': 2.5,\n",
    "'The Night Listener': 3.0},\n",
    "'Gene Seymour': {'Lady in the Water': 3.0, 'Snakes on a Plane': 3.5,\n",
    "'Just My Luck': 1.5, 'Superman Returns': 5.0, 'The Night Listener': 3.0,\n",
    "'You, Me and Dupree': 3.5},\n",
    "'Michael Phillips': {'Lady in the Water': 2.5, 'Snakes on a Plane': 3.0,\n",
    "'Superman Returns': 3.5, 'The Night Listener': 4.0},\n",
    "'Claudia Puig': {'Snakes on a Plane': 3.5, 'Just My Luck': 3.0,\n",
    "'The Night Listener': 4.5, 'Superman Returns': 4.0,\n",
    "'You, Me and Dupree': 2.5},\n",
    "'Mick LaSalle': {'Lady in the Water': 3.0, 'Snakes on a Plane': 4.0,\n",
    "'Just My Luck': 2.0, 'Superman Returns': 3.0, 'The Night Listener': 3.0,\n",
    "'You, Me and Dupree': 2.0},\n",
    "'Jack Matthews': {'Lady in the Water': 3.0, 'Snakes on a Plane': 4.0,\n",
    "'The Night Listener': 3.0, 'Superman Returns': 5.0, 'You, Me and Dupree': 3.5},\n",
    "'Toby': {'Snakes on a Plane':4.5,'You, Me and Dupree':1.0,'Superman Returns':4.0}}"
   ]
  },
  {
   "cell_type": "markdown",
   "id": "ad4b6e73-e942-4935-bfe5-620447490fac",
   "metadata": {},
   "source": [
    "#### Euclidean distance correlation function"
   ]
  },
  {
   "cell_type": "code",
   "execution_count": 11,
   "id": "69e480b0-85ce-481e-a499-0a246c564ffc",
   "metadata": {},
   "outputs": [],
   "source": [
    "# Import important packages\n",
    "from math import sqrt"
   ]
  },
  {
   "cell_type": "code",
   "execution_count": 4,
   "id": "c8dc4761-4066-4d5c-b3e7-ead573b5d9a9",
   "metadata": {},
   "outputs": [
    {
     "data": {
      "text/plain": [
       "0.14814814814814814"
      ]
     },
     "execution_count": 4,
     "metadata": {},
     "output_type": "execute_result"
    }
   ],
   "source": [
    "\n",
    "def sim_distance(prefs, person1, person2):\n",
    "    si = {}\n",
    "    for item in prefs[person1]:\n",
    "        if item in prefs[person2]:\n",
    "            si[item] = 1\n",
    "    if len(si) == 0: return 0\n",
    "    # Add up the squares of all the differences\n",
    "    sum_of_squares = sum([pow(prefs[person1][item] - prefs[person2][item], 2)\n",
    "                          for item in prefs[person1] if item in prefs[person2]])\n",
    "    return 1/(1+sum_of_squares)\n",
    "\n",
    "sim_distance(critics,'Lisa Rose','Gene Seymour')"
   ]
  },
  {
   "cell_type": "markdown",
   "id": "ec3e71ff-8eec-4c18-a40d-233ece76827d",
   "metadata": {},
   "source": [
    "#### Pearson correlation function"
   ]
  },
  {
   "cell_type": "code",
   "execution_count": 6,
   "id": "0ce9a934-a1c7-4107-b684-38ccbc9f452d",
   "metadata": {},
   "outputs": [
    {
     "data": {
      "text/plain": [
       "0.39605901719066977"
      ]
     },
     "execution_count": 6,
     "metadata": {},
     "output_type": "execute_result"
    }
   ],
   "source": [
    "#  pearson correlation score\n",
    "\n",
    "def sim_pearson(prefs, person1, person2):\n",
    "    si = {}\n",
    "    \n",
    "    for i in prefs[person1]:\n",
    "        if i in prefs[person2]:\n",
    "            si[i] = 1\n",
    "    n = len(si)\n",
    "    if n == 0: return 0\n",
    "    \n",
    "#     Sum all the values\n",
    "    sum1 = sum([prefs[person1][it] for it in si])\n",
    "    sum2 = sum([prefs[person2][it] for it in si])\n",
    "#     Powered sum\n",
    "\n",
    "    sumsq1 = sum([pow(prefs[person1][it], 2) for it in si])\n",
    "    sumsq2 = sum([pow(prefs[person2][it], 2) for it in si])\n",
    "    #     Sum of the product\n",
    "#     psum = sum([prefs[person1][y] * prefs[person2][y] for y in si])\n",
    "    psum = sum([prefs[person1][it] * prefs[person2][it] for it in si])\n",
    "    num =psum - (sum1 * sum2)/n\n",
    "    \n",
    "    den = sqrt((sumsq1   - pow(sum1,2)/n) * (sumsq2 - pow(sum2,2)/n))\n",
    "    if den ==0:\n",
    "        return 0\n",
    "    r = num/den \n",
    "    return r\n",
    "\n",
    "sim_pearson(critics,'Lisa Rose','Gene Seymour')"
   ]
  },
  {
   "cell_type": "markdown",
   "id": "836d0458-8509-4fbd-bcab-cef0cd2eed82",
   "metadata": {},
   "source": [
    "##### A function that returns top 5 people with a high correlation with a given person in movies"
   ]
  },
  {
   "cell_type": "code",
   "execution_count": 7,
   "id": "bacd7b4d-9837-40f6-b225-70944d70b7dc",
   "metadata": {},
   "outputs": [
    {
     "data": {
      "text/plain": [
       "[(0.9912407071619299, 'Toby'),\n",
       " (0.7470178808339965, 'Jack Matthews'),\n",
       " (0.5940885257860044, 'Mick LaSalle'),\n",
       " (0.5669467095138396, 'Claudia Puig'),\n",
       " (0.40451991747794525, 'Michael Phillips')]"
      ]
     },
     "execution_count": 7,
     "metadata": {},
     "output_type": "execute_result"
    }
   ],
   "source": [
    "def topMatches(prefs,person,n = 5, similarity = sim_pearson):\n",
    "    scores =[(similarity(prefs,person,other), other) for other in prefs if other != person ]\n",
    "#   Sort  so that the highest score stays at the top\n",
    "    scores.sort()\n",
    "    scores.reverse()\n",
    "    return scores[0:n]\n",
    "\n",
    "topMatches(critics,'Lisa Rose')"
   ]
  },
  {
   "cell_type": "code",
   "execution_count": 10,
   "id": "1aeedebf-fad9-43b5-a926-5241ba2ffedf",
   "metadata": {},
   "outputs": [
    {
     "data": {
      "text/plain": [
       "[(3.3477895267131017, 'The Night Listener'),\n",
       " (2.8325499182641614, 'Lady in the Water'),\n",
       " (2.530980703765565, 'Just My Luck')]"
      ]
     },
     "execution_count": 10,
     "metadata": {},
     "output_type": "execute_result"
    }
   ],
   "source": [
    "###Recommending items\n",
    "\n",
    "def getRecommendation(prefs,person, similarity = sim_pearson):\n",
    "    totals = {}\n",
    "    simSums ={}\n",
    "    for other in prefs:\n",
    "        if other == person: continue\n",
    "        sim = similarity(prefs,person,other)\n",
    "# Ignore scores of zero or lower\n",
    "        if sim <= 0: continue\n",
    "        for item in prefs[other]:\n",
    "# Movies I haven't seen or movies with zero reviews\n",
    "            if item not in prefs[person] or prefs[person][item] == 0:\n",
    "                totals.setdefault(item,0)\n",
    "                totals[item] += prefs[other][item]*sim\n",
    "#                 Sum of Similarities\n",
    "\n",
    "                simSums.setdefault(item,0)\n",
    "                simSums[item] += sim\n",
    "    rankings = [(total/simSums[item], item) for item, total in totals.items()]\n",
    "    rankings.sort()\n",
    "    rankings.reverse()\n",
    "    \n",
    "    return rankings\n",
    "         \n",
    "            \n",
    "getRecommendation(critics,'Toby')\n",
    "        "
   ]
  },
  {
   "cell_type": "code",
   "execution_count": null,
   "id": "4d9922b6-5538-4741-ad7f-dbc91f9d3d78",
   "metadata": {},
   "outputs": [],
   "source": []
  }
 ],
 "metadata": {
  "kernelspec": {
   "display_name": "Python 3",
   "language": "python",
   "name": "python3"
  },
  "language_info": {
   "codemirror_mode": {
    "name": "ipython",
    "version": 3
   },
   "file_extension": ".py",
   "mimetype": "text/x-python",
   "name": "python",
   "nbconvert_exporter": "python",
   "pygments_lexer": "ipython3",
   "version": "3.8.8"
  }
 },
 "nbformat": 4,
 "nbformat_minor": 5
}
